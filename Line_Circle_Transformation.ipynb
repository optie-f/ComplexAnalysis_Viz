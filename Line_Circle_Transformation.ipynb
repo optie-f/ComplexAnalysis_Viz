{
 "cells": [
  {
   "cell_type": "markdown",
   "metadata": {},
   "source": [
    "# 複素関数による直線・円の写像の可視化"
   ]
  },
  {
   "cell_type": "markdown",
   "metadata": {},
   "source": [
    "## 0. 下準備"
   ]
  },
  {
   "cell_type": "code",
   "execution_count": 1,
   "metadata": {},
   "outputs": [
    {
     "data": {
      "text/html": [
       "<div id=\"interact-js-shim\">\n",
       "    <script charset=\"utf-8\">\n",
       "(function (IPython, $, _, MathJax) {\n",
       "    $.event.special.destroyed = {\n",
       "\tremove: function(o) {\n",
       "\t    if (o.handler) {\n",
       "\t\to.handler.apply(this, arguments)\n",
       "\t    }\n",
       "\t}\n",
       "    }\n",
       "\n",
       "    var OutputArea = IPython.version >= \"4.0.0\" ? require(\"notebook/js/outputarea\").OutputArea : IPython.OutputArea;\n",
       "\n",
       "    var redrawValue = function (container, type, val) {\n",
       "\tvar selector = $(\"<div/>\");\n",
       "\tvar oa = new OutputArea(_.extend(selector, {\n",
       "\t    selector: selector,\n",
       "\t    prompt_area: true,\n",
       "\t    events: IPython.events,\n",
       "\t    keyboard_manager: IPython.keyboard_manager\n",
       "\t})); // Hack to work with IPython 2.1.0\n",
       "\n",
       "\tswitch (type) {\n",
       "\tcase \"image/png\":\n",
       "            var _src = 'data:' + type + ';base64,' + val;\n",
       "\t    $(container).find(\"img\").attr('src', _src);\n",
       "\t    break;\n",
       "\tcase \"text/latex\":\n",
       "\t\tif (MathJax){\n",
       "\t\t\tvar math = MathJax.Hub.getAllJax(container)[0];\n",
       "\t\t\tMathJax.Hub.Queue([\"Text\", math, val.replace(/^\\${1,2}|\\${1,2}$/g, '')]);\n",
       "\t\t\tbreak;\n",
       "\t\t}\n",
       "\tdefault:\n",
       "\t    var toinsert = OutputArea.append_map[type].apply(\n",
       "\t\toa, [val, {}, selector]\n",
       "\t    );\n",
       "\t    $(container).empty().append(toinsert.contents());\n",
       "\t    selector.remove();\n",
       "\t}\n",
       "    }\n",
       "\n",
       "\n",
       "    $(document).ready(function() {\n",
       "\tfunction initComm(evt, data) {\n",
       "\t    var comm_manager = data.kernel.comm_manager;\n",
       "        //_.extend(comm_manager.targets, require(\"widgets/js/widget\"))\n",
       "\t    comm_manager.register_target(\"Signal\", function (comm) {\n",
       "            comm.on_msg(function (msg) {\n",
       "                var val = msg.content.data.value;\n",
       "                $(\".signal-\" + comm.comm_id).each(function() {\n",
       "                var type = $(this).data(\"type\");\n",
       "                if (typeof(val[type]) !== \"undefined\" && val[type] !== null) {\n",
       "                    redrawValue(this, type, val[type], type);\n",
       "                }\n",
       "                });\n",
       "                delete val;\n",
       "                delete msg.content.data.value;\n",
       "            });\n",
       "\t    });\n",
       "\n",
       "\t    // coordingate with Comm and redraw Signals\n",
       "\t    // XXX: Test using Reactive here to improve performance\n",
       "\t    $([IPython.events]).on(\n",
       "\t\t'output_appended.OutputArea', function (event, type, value, md, toinsert) {\n",
       "\t\t    if (md && md.reactive) {\n",
       "                // console.log(md.comm_id);\n",
       "                toinsert.addClass(\"signal-\" + md.comm_id);\n",
       "                toinsert.data(\"type\", type);\n",
       "                // Signal back indicating the mimetype required\n",
       "                var comm_manager = IPython.notebook.kernel.comm_manager;\n",
       "                var comm = comm_manager.comms[md.comm_id];\n",
       "                comm.then(function (c) {\n",
       "                    c.send({action: \"subscribe_mime\",\n",
       "                       mime: type});\n",
       "                    toinsert.bind(\"destroyed\", function() {\n",
       "                        c.send({action: \"unsubscribe_mime\",\n",
       "                               mime: type});\n",
       "                    });\n",
       "                })\n",
       "\t\t    }\n",
       "\t    });\n",
       "\t}\n",
       "\n",
       "\ttry {\n",
       "\t    // try to initialize right away. otherwise, wait on the status_started event.\n",
       "\t    initComm(undefined, IPython.notebook);\n",
       "\t} catch (e) {\n",
       "\t    $([IPython.events]).on('kernel_created.Kernel kernel_created.Session', initComm);\n",
       "\t}\n",
       "    });\n",
       "})(IPython, jQuery, _, MathJax);\n",
       "</script>\n",
       "    <script>\n",
       "        window.interactLoadedFlag = true\n",
       "       $(\"#interact-js-shim\").bind(\"destroyed\", function () {\n",
       "           if (window.interactLoadedFlag) {\n",
       "               console.warn(\"JavaScript required by Interact will be removed if you remove this cell or run using Interact more than once.\")\n",
       "           }\n",
       "       })\n",
       "       $([IPython.events]).on(\"kernel_starting.Kernel kernel_restarting.Kernel\", function () { window.interactLoadedFlag = false })\n",
       "   </script>\n",
       "</div>"
      ]
     },
     "metadata": {},
     "output_type": "display_data",
     "source": "julia"
    },
    {
     "name": "stderr",
     "output_type": "stream",
     "text": [
      "\u001b[1m\u001b[36mINFO: \u001b[39m\u001b[22m\u001b[36mInteract.jl: using new nbwidgetsextension protocol\n",
      "\u001b[39m"
     ]
    }
   ],
   "source": [
    "using Plots\n",
    "using Interact\n",
    "import ProgressMeter\n",
    "using LaTeXStrings\n",
    "using IJulia"
   ]
  },
  {
   "cell_type": "markdown",
   "metadata": {},
   "source": [
    "### gif表示用関数"
   ]
  },
  {
   "cell_type": "code",
   "execution_count": 2,
   "metadata": {},
   "outputs": [
    {
     "data": {
      "text/plain": [
       "displayfile (generic function with 1 method)"
      ]
     },
     "execution_count": 2,
     "metadata": {},
     "output_type": "execute_result"
    }
   ],
   "source": [
    "function displayfile(filename)\n",
    "    display(\"text/html\", \"\"\"<img src=\"$filename\">\"\"\")\n",
    "end"
   ]
  },
  {
   "cell_type": "markdown",
   "metadata": {},
   "source": [
    "### アニメーション作成用関数"
   ]
  },
  {
   "cell_type": "code",
   "execution_count": 3,
   "metadata": {},
   "outputs": [
    {
     "data": {
      "text/plain": [
       "makeanim (generic function with 1 method)"
      ]
     },
     "execution_count": 3,
     "metadata": {},
     "output_type": "execute_result"
    }
   ],
   "source": [
    "# 複素関数 f, 定数kを受け取り複素数列(点群)を返す shape の配列 shapes\n",
    "function makeanim(f, shapes; n=100, kmin=-10, kmax=10, zsize=10, wsize=10, unitcircle=true)\n",
    "    prog = ProgressMeter.Progress(n,1)\n",
    "    \n",
    "    anim = @animate for i in linspace(kmin,kmax,n)\n",
    "        \n",
    "        p1 = plot(lims=(-zsize, zsize), title=\"x-y\")\n",
    "        p2 = plot(lims=(-wsize, wsize), title=\"u-v\")\n",
    "        vline!(p1,[0],line=(:black, 1))\n",
    "        hline!(p1,[0],line=(:black, 1))\n",
    "        vline!(p2,[0],line=(:black, 1))\n",
    "        hline!(p2,[0],line=(:black, 1))    \n",
    "        \n",
    "        if unitcircle\n",
    "            θ = linspace(0,2π,60)\n",
    "            plot!(p1, sin.(θ), cos.(θ), line=(:black, 1))\n",
    "            plot!(p2, sin.(θ), cos.(θ), line=(:black, 1))\n",
    "        end\n",
    "            \n",
    "        \n",
    "        k = i\n",
    "        \n",
    "        for shape in shapes\n",
    "            z = shape(k)\n",
    "            w = f(z)\n",
    "            \n",
    "            if length(z)>1  # 点ならscatterを使う\n",
    "                plot!(p1, real(z), imag(z))\n",
    "            else\n",
    "                scatter!(p1, (real(z),imag(z)))\n",
    "            end\n",
    "            \n",
    "            if length(w)>1\n",
    "                plot!(p2, real(w),imag(w))\n",
    "            else\n",
    "                scatter!(p2, (real(w),imag(w)))\n",
    "            end\n",
    "            \n",
    "        end\n",
    "        \n",
    "        plot(p1,p2,size=(800,400))\n",
    "        ProgressMeter.next!(prog)\n",
    "        \n",
    "    end\n",
    "    \n",
    "    return anim\n",
    "    \n",
    "end"
   ]
  },
  {
   "cell_type": "markdown",
   "metadata": {},
   "source": [
    "### 直線と円を動かすための関数"
   ]
  },
  {
   "cell_type": "code",
   "execution_count": 4,
   "metadata": {},
   "outputs": [
    {
     "data": {
      "text/plain": [
       "circlepoint (generic function with 1 method)"
      ]
     },
     "execution_count": 4,
     "metadata": {},
     "output_type": "execute_result"
    }
   ],
   "source": [
    "function yline(k)\n",
    "    x = linspace(-50,50,1001)\n",
    "    y = k\n",
    "    z = x + y*im\n",
    "end\n",
    "\n",
    "function xline(k)\n",
    "    x = k\n",
    "    y = linspace(-50,50,1001)\n",
    "    z = x + y*im\n",
    "end\n",
    "\n",
    "function xylinecrosspoint(k)\n",
    "    x = k\n",
    "    y = k\n",
    "    z = x + y*im\n",
    "end\n",
    "\n",
    "\n",
    "function circle(k)\n",
    "    r = k\n",
    "    θ = linspace(-π,π,10000)\n",
    "    z = r*(cos.(θ) + im*sin.(θ))\n",
    "end\n",
    "\n",
    "function circleline(k)\n",
    "    r = linspace(0,100,10001)\n",
    "    θ = 2k\n",
    "    z = r*(cos.(θ) + im*sin.(θ))\n",
    "end\n",
    "\n",
    "function circlepoint(k)\n",
    "    r = k\n",
    "    z = r*(cos.(2k) + im*sin.(2k))\n",
    "end"
   ]
  },
  {
   "cell_type": "code",
   "execution_count": 5,
   "metadata": {},
   "outputs": [
    {
     "data": {
      "text/plain": [
       "30"
      ]
     },
     "execution_count": 5,
     "metadata": {},
     "output_type": "execute_result"
    }
   ],
   "source": [
    "gr(\n",
    "    legend=false,\n",
    "    titlefont=Plots.font(\"sans-serif\", 12),\n",
    "    legendfont=Plots.font(\"sans-serif\", 8),\n",
    "    guidefont=Plots.font(\"sans-serif\", 10),\n",
    "    tickfont=Plots.font(\"sans-serif\", 8),\n",
    "    markersize=4, markerstrokewidth = 1, \n",
    "    markercolor= \"#FF445B\",markerstrokecolor=\"#4A4A4A\",\n",
    "    linewidth=2\n",
    ")\n",
    "\n",
    "ENV[\"PLOTS_TEST\"] = \"true\"  #出力画像サイズ6倍問題回避\n",
    "\n",
    "dir = \"gif/\"\n",
    "fps = 30"
   ]
  },
  {
   "cell_type": "markdown",
   "metadata": {},
   "source": [
    "# 1. $z=w^2$, $z=w^3$"
   ]
  },
  {
   "cell_type": "code",
   "execution_count": 6,
   "metadata": {},
   "outputs": [
    {
     "name": "stderr",
     "output_type": "stream",
     "text": [
      "\u001b[32mProgress: 100%|█████████████████████████████████████████| Time: 0:00:28\u001b[39m\n"
     ]
    },
    {
     "data": {
      "text/plain": [
       "\"01_fps30.gif\""
      ]
     },
     "execution_count": 6,
     "metadata": {},
     "output_type": "execute_result"
    }
   ],
   "source": [
    "function f1(z)\n",
    "    z.^2\n",
    "end\n",
    "\n",
    "shapes=[yline, xline, xylinecrosspoint]\n",
    "anim = makeanim(f1, shapes, zsize=20, wsize=200, unitcircle=false)\n",
    "\n",
    "filename = \"01_fps$fps.gif\""
   ]
  },
  {
   "cell_type": "code",
   "execution_count": 12,
   "metadata": {},
   "outputs": [
    {
     "data": {
      "text/plain": [
       "0"
      ]
     },
     "execution_count": 12,
     "metadata": {},
     "output_type": "execute_result"
    }
   ],
   "source": [
    "gif(anim, dir * filename, fps = fps)\n",
    "IJulia.clear_output()"
   ]
  },
  {
   "cell_type": "code",
   "execution_count": 9,
   "metadata": {},
   "outputs": [
    {
     "data": {
      "text/html": [
       "<img src=\"gif/01_fps30.gif\">"
      ]
     },
     "metadata": {},
     "output_type": "display_data",
     "source": "julia"
    }
   ],
   "source": [
    "displayfile(dir * filename)"
   ]
  },
  {
   "cell_type": "code",
   "execution_count": 13,
   "metadata": {},
   "outputs": [
    {
     "name": "stderr",
     "output_type": "stream",
     "text": [
      "\u001b[32mProgress: 100%|█████████████████████████████████████████| Time: 0:00:08\u001b[39m\n"
     ]
    },
    {
     "data": {
      "text/plain": [
       "\"01b_fps30.gif\""
      ]
     },
     "execution_count": 13,
     "metadata": {},
     "output_type": "execute_result"
    }
   ],
   "source": [
    "function f1b(z)\n",
    "    z.^3\n",
    "end\n",
    "\n",
    "shapes=[yline, xline, xylinecrosspoint]\n",
    "anim = makeanim(f1b, shapes, zsize=20, wsize=2000, unitcircle=false)\n",
    "\n",
    "filename = \"01b_fps$fps.gif\""
   ]
  },
  {
   "cell_type": "code",
   "execution_count": 14,
   "metadata": {},
   "outputs": [
    {
     "data": {
      "text/plain": [
       "0"
      ]
     },
     "execution_count": 14,
     "metadata": {},
     "output_type": "execute_result"
    }
   ],
   "source": [
    "gif(anim, dir * filename, fps = fps)\n",
    "IJulia.clear_output()"
   ]
  },
  {
   "cell_type": "code",
   "execution_count": 15,
   "metadata": {},
   "outputs": [
    {
     "data": {
      "text/html": [
       "<img src=\"gif/01b_fps30.gif\">"
      ]
     },
     "metadata": {},
     "output_type": "display_data",
     "source": "julia"
    }
   ],
   "source": [
    "displayfile(dir * filename)"
   ]
  },
  {
   "cell_type": "markdown",
   "metadata": {},
   "source": [
    "## 2. $w=\\frac{1}{z}$,$w=\\frac{1}{z^2}$ "
   ]
  },
  {
   "cell_type": "code",
   "execution_count": 16,
   "metadata": {},
   "outputs": [
    {
     "name": "stderr",
     "output_type": "stream",
     "text": [
      "\u001b[32mProgress: 100%|█████████████████████████████████████████| Time: 0:00:16\u001b[39m\n",
      "\u001b[32mProgress: 100%|█████████████████████████████████████████| Time: 0:00:37\u001b[39m\n"
     ]
    },
    {
     "data": {
      "text/plain": [
       "\"02_2_fps30.gif\""
      ]
     },
     "execution_count": 16,
     "metadata": {},
     "output_type": "execute_result"
    }
   ],
   "source": [
    "function f2(z)\n",
    "    1./z\n",
    "end\n",
    "\n",
    "shapes1=[yline, xline, xylinecrosspoint]\n",
    "shapes2=[circle, circleline, circlepoint]\n",
    "\n",
    "anim1 = makeanim(f2, shapes1, n=150, kmin=-2, kmax=2, zsize=2, wsize=2)\n",
    "anim2 = makeanim(f2, shapes2, n=250, kmin=2π, kmax=0, zsize=2π, wsize=2π)\n",
    "\n",
    "filename1 = \"02_1_fps$fps.gif\"\n",
    "filename2 = \"02_2_fps$fps.gif\""
   ]
  },
  {
   "cell_type": "code",
   "execution_count": 17,
   "metadata": {},
   "outputs": [
    {
     "data": {
      "text/plain": [
       "0"
      ]
     },
     "execution_count": 17,
     "metadata": {},
     "output_type": "execute_result"
    }
   ],
   "source": [
    "gif(anim1, dir * filename1, fps = fps)\n",
    "gif(anim2, dir * filename2, fps = fps)\n",
    "IJulia.clear_output()"
   ]
  },
  {
   "cell_type": "code",
   "execution_count": 18,
   "metadata": {},
   "outputs": [
    {
     "data": {
      "text/html": [
       "<img src=\"gif/02_1_fps30.gif\">"
      ]
     },
     "metadata": {},
     "output_type": "display_data",
     "source": "julia"
    },
    {
     "data": {
      "text/html": [
       "<img src=\"gif/02_2_fps30.gif\">"
      ]
     },
     "metadata": {},
     "output_type": "display_data",
     "source": "julia"
    }
   ],
   "source": [
    "displayfile(dir * filename1)\n",
    "displayfile(dir * filename2)"
   ]
  },
  {
   "cell_type": "code",
   "execution_count": 19,
   "metadata": {},
   "outputs": [
    {
     "name": "stderr",
     "output_type": "stream",
     "text": [
      "\u001b[32mProgress: 100%|█████████████████████████████████████████| Time: 0:00:22\u001b[39m\n",
      "\u001b[32mProgress: 100%|█████████████████████████████████████████| Time: 0:00:40\u001b[39m\n"
     ]
    },
    {
     "data": {
      "text/plain": [
       "\"02b_2_fps30.gif\""
      ]
     },
     "execution_count": 19,
     "metadata": {},
     "output_type": "execute_result"
    }
   ],
   "source": [
    "function f2b(z)\n",
    "    1./(z.^2)\n",
    "end\n",
    "\n",
    "shapes1=[yline, xline, xylinecrosspoint]\n",
    "shapes2=[circle, circleline, circlepoint]\n",
    "\n",
    "anim1 = makeanim(f2b, shapes1, n=150, kmin=-2, kmax=2, zsize=2, wsize=2)\n",
    "anim2 = makeanim(f2b, shapes2, n=250, kmin=2π, kmax=0, zsize=2π, wsize=2π)\n",
    "\n",
    "filename1 = \"02b_1_fps$fps.gif\"\n",
    "filename2 = \"02b_2_fps$fps.gif\""
   ]
  },
  {
   "cell_type": "code",
   "execution_count": 20,
   "metadata": {},
   "outputs": [
    {
     "data": {
      "text/plain": [
       "0"
      ]
     },
     "execution_count": 20,
     "metadata": {},
     "output_type": "execute_result"
    }
   ],
   "source": [
    "gif(anim1, dir * filename1, fps = fps)\n",
    "gif(anim2, dir * filename2, fps = fps)\n",
    "IJulia.clear_output()"
   ]
  },
  {
   "cell_type": "code",
   "execution_count": 21,
   "metadata": {},
   "outputs": [
    {
     "data": {
      "text/html": [
       "<img src=\"gif/02b_1_fps30.gif\">"
      ]
     },
     "metadata": {},
     "output_type": "display_data",
     "source": "julia"
    },
    {
     "data": {
      "text/html": [
       "<img src=\"gif/02b_2_fps30.gif\">"
      ]
     },
     "metadata": {},
     "output_type": "display_data",
     "source": "julia"
    }
   ],
   "source": [
    "displayfile(dir * filename1)\n",
    "displayfile(dir * filename2)"
   ]
  },
  {
   "cell_type": "markdown",
   "metadata": {},
   "source": [
    "## 3. $w=\\sin z$"
   ]
  },
  {
   "cell_type": "code",
   "execution_count": 22,
   "metadata": {},
   "outputs": [
    {
     "name": "stderr",
     "output_type": "stream",
     "text": [
      "\u001b[32mProgress: 100%|█████████████████████████████████████████| Time: 0:00:14\u001b[39m\n",
      "\u001b[32mProgress: 100%|█████████████████████████████████████████| Time: 0:00:44\u001b[39m\n"
     ]
    },
    {
     "data": {
      "text/plain": [
       "\"03_2_fps30.gif\""
      ]
     },
     "execution_count": 22,
     "metadata": {},
     "output_type": "execute_result"
    }
   ],
   "source": [
    "function f3(z)\n",
    "    sin.(z)\n",
    "end\n",
    "\n",
    "anim1 = makeanim(f3, shapes1, n=150, kmin=-2, kmax=2, zsize=2, wsize=2)\n",
    "anim2 = makeanim(f3, shapes2, n=500, kmin=π, kmax=0, zsize=2π, wsize=2π)\n",
    "\n",
    "filename1 = \"03_1_fps$fps.gif\"\n",
    "filename2 = \"03_2_fps$fps.gif\""
   ]
  },
  {
   "cell_type": "code",
   "execution_count": 23,
   "metadata": {},
   "outputs": [
    {
     "data": {
      "text/plain": [
       "0"
      ]
     },
     "execution_count": 23,
     "metadata": {},
     "output_type": "execute_result"
    }
   ],
   "source": [
    "gif(anim1,dir *  filename1, fps = fps)\n",
    "gif(anim2,dir *  filename2, fps = fps)\n",
    "IJulia.clear_output()"
   ]
  },
  {
   "cell_type": "code",
   "execution_count": 24,
   "metadata": {},
   "outputs": [
    {
     "data": {
      "text/html": [
       "<img src=\"gif/03_1_fps30.gif\">"
      ]
     },
     "metadata": {},
     "output_type": "display_data",
     "source": "julia"
    },
    {
     "data": {
      "text/html": [
       "<img src=\"gif/03_2_fps30.gif\">"
      ]
     },
     "metadata": {},
     "output_type": "display_data",
     "source": "julia"
    }
   ],
   "source": [
    "displayfile(dir *  filename1)\n",
    "displayfile(dir * filename2)"
   ]
  },
  {
   "cell_type": "markdown",
   "metadata": {},
   "source": [
    "## 4. $w=\\tan z$"
   ]
  },
  {
   "cell_type": "code",
   "execution_count": 25,
   "metadata": {},
   "outputs": [
    {
     "name": "stderr",
     "output_type": "stream",
     "text": [
      "\u001b[32mProgress: 100%|█████████████████████████████████████████| Time: 0:00:12\u001b[39m\n",
      "\u001b[32mProgress: 100%|█████████████████████████████████████████| Time: 0:00:50\u001b[39m\n"
     ]
    },
    {
     "data": {
      "text/plain": [
       "\"04_2_fps30.gif\""
      ]
     },
     "execution_count": 25,
     "metadata": {},
     "output_type": "execute_result"
    }
   ],
   "source": [
    "function f4(z)\n",
    "    tan.(z)\n",
    "end\n",
    "\n",
    "anim1 = makeanim(f4, shapes1, n=150, kmin=-2, kmax=2, zsize=2, wsize=2)\n",
    "anim2 = makeanim(f4, shapes2, n=500, kmin=π, kmax=0, zsize=2π, wsize=2π)\n",
    "\n",
    "filename1 = \"04_1_fps$fps.gif\"\n",
    "filename2 = \"04_2_fps$fps.gif\""
   ]
  },
  {
   "cell_type": "code",
   "execution_count": 26,
   "metadata": {},
   "outputs": [
    {
     "data": {
      "text/plain": [
       "0"
      ]
     },
     "execution_count": 26,
     "metadata": {},
     "output_type": "execute_result"
    }
   ],
   "source": [
    "gif(anim1, dir * filename1, fps = fps)\n",
    "gif(anim2, dir * filename2, fps = fps)\n",
    "IJulia.clear_output()"
   ]
  },
  {
   "cell_type": "code",
   "execution_count": 27,
   "metadata": {},
   "outputs": [
    {
     "data": {
      "text/html": [
       "<img src=\"gif/04_1_fps30.gif\">"
      ]
     },
     "metadata": {},
     "output_type": "display_data",
     "source": "julia"
    },
    {
     "data": {
      "text/html": [
       "<img src=\"gif/04_2_fps30.gif\">"
      ]
     },
     "metadata": {},
     "output_type": "display_data",
     "source": "julia"
    }
   ],
   "source": [
    "displayfile(dir * filename1)\n",
    "displayfile(dir * filename2)"
   ]
  },
  {
   "cell_type": "markdown",
   "metadata": {},
   "source": [
    "## 5. $w=e^z$"
   ]
  },
  {
   "cell_type": "code",
   "execution_count": 28,
   "metadata": {},
   "outputs": [
    {
     "name": "stderr",
     "output_type": "stream",
     "text": [
      "\u001b[32mProgress: 100%|█████████████████████████████████████████| Time: 0:00:11\u001b[39m\n",
      "\u001b[32mProgress: 100%|█████████████████████████████████████████| Time: 0:00:45\u001b[39m\n"
     ]
    },
    {
     "data": {
      "text/plain": [
       "\"05_2_fps30.gif\""
      ]
     },
     "execution_count": 28,
     "metadata": {},
     "output_type": "execute_result"
    }
   ],
   "source": [
    "function f5(z)\n",
    "    e.^z\n",
    "end\n",
    "\n",
    "anim1 = makeanim(f5, shapes1, n=150, kmin=-2, kmax=2, zsize=2, wsize=2)\n",
    "anim2 = makeanim(f5, shapes2, n=500, kmin=π, kmax=0, zsize=2π, wsize=4π)\n",
    "\n",
    "filename1 = \"05_1_fps$fps.gif\"\n",
    "filename2 = \"05_2_fps$fps.gif\""
   ]
  },
  {
   "cell_type": "code",
   "execution_count": 29,
   "metadata": {},
   "outputs": [
    {
     "data": {
      "text/plain": [
       "0"
      ]
     },
     "execution_count": 29,
     "metadata": {},
     "output_type": "execute_result"
    }
   ],
   "source": [
    "gif(anim1, dir * filename1, fps = fps)\n",
    "gif(anim2, dir * filename2, fps = fps)\n",
    "IJulia.clear_output()"
   ]
  },
  {
   "cell_type": "code",
   "execution_count": 30,
   "metadata": {},
   "outputs": [
    {
     "data": {
      "text/html": [
       "<img src=\"gif/05_1_fps30.gif\">"
      ]
     },
     "metadata": {},
     "output_type": "display_data",
     "source": "julia"
    },
    {
     "data": {
      "text/html": [
       "<img src=\"gif/05_2_fps30.gif\">"
      ]
     },
     "metadata": {},
     "output_type": "display_data",
     "source": "julia"
    }
   ],
   "source": [
    "displayfile(dir * filename1)\n",
    "displayfile(dir * filename2)"
   ]
  },
  {
   "cell_type": "markdown",
   "metadata": {},
   "source": [
    "## 6. $w = \\log z$"
   ]
  },
  {
   "cell_type": "code",
   "execution_count": 31,
   "metadata": {},
   "outputs": [
    {
     "name": "stderr",
     "output_type": "stream",
     "text": [
      "\u001b[32mProgress: 100%|█████████████████████████████████████████| Time: 0:00:12\u001b[39m\n",
      "\u001b[32mProgress: 100%|█████████████████████████████████████████| Time: 0:00:15\u001b[39m\n"
     ]
    },
    {
     "data": {
      "text/plain": [
       "\"06_2_fps30.gif\""
      ]
     },
     "execution_count": 31,
     "metadata": {},
     "output_type": "execute_result"
    }
   ],
   "source": [
    "function f6(z)\n",
    "    log.(z)\n",
    "end\n",
    "\n",
    "anim1 = makeanim(f6, shapes1, n=150, kmin=-2, kmax=2, zsize=2, wsize=2)\n",
    "anim2 = makeanim(f6, shapes2, n=200, kmin=π, kmax=0, zsize=π, wsize=π)\n",
    "\n",
    "filename1 = \"06_1_fps$fps.gif\"\n",
    "filename2 = \"06_2_fps$fps.gif\""
   ]
  },
  {
   "cell_type": "code",
   "execution_count": 32,
   "metadata": {},
   "outputs": [
    {
     "data": {
      "text/plain": [
       "0"
      ]
     },
     "execution_count": 32,
     "metadata": {},
     "output_type": "execute_result"
    }
   ],
   "source": [
    "gif(anim1, dir * filename1, fps = fps)\n",
    "gif(anim2, dir * filename2, fps = fps)\n",
    "IJulia.clear_output()"
   ]
  },
  {
   "cell_type": "code",
   "execution_count": 33,
   "metadata": {},
   "outputs": [
    {
     "data": {
      "text/html": [
       "<img src=\"gif/06_1_fps30.gif\">"
      ]
     },
     "metadata": {},
     "output_type": "display_data",
     "source": "julia"
    },
    {
     "data": {
      "text/html": [
       "<img src=\"gif/06_2_fps30.gif\">"
      ]
     },
     "metadata": {},
     "output_type": "display_data",
     "source": "julia"
    }
   ],
   "source": [
    "displayfile(dir * filename1)\n",
    "displayfile(dir * filename2)"
   ]
  },
  {
   "cell_type": "markdown",
   "metadata": {},
   "source": [
    "## 7. $w=\\sinh z$"
   ]
  },
  {
   "cell_type": "code",
   "execution_count": 34,
   "metadata": {},
   "outputs": [
    {
     "name": "stderr",
     "output_type": "stream",
     "text": [
      "\u001b[32mProgress: 100%|█████████████████████████████████████████| Time: 0:00:11\u001b[39m\n",
      "\u001b[32mProgress: 100%|█████████████████████████████████████████| Time: 0:00:18\u001b[39m\n"
     ]
    },
    {
     "data": {
      "text/plain": [
       "\"07_2_fps30.gif\""
      ]
     },
     "execution_count": 34,
     "metadata": {},
     "output_type": "execute_result"
    }
   ],
   "source": [
    "function f7(z)\n",
    "    sinh.(z)\n",
    "end\n",
    "\n",
    "anim1 = makeanim(f7, shapes1, n=150, kmin=-2, kmax=2, zsize=2, wsize=2)\n",
    "anim2 = makeanim(f7, shapes2, n=200, kmin=π, kmax=0, zsize=π, wsize=π)\n",
    "\n",
    "filename1 = \"07_1_fps$fps.gif\"\n",
    "filename2 = \"07_2_fps$fps.gif\""
   ]
  },
  {
   "cell_type": "code",
   "execution_count": 35,
   "metadata": {},
   "outputs": [
    {
     "data": {
      "text/plain": [
       "0"
      ]
     },
     "execution_count": 35,
     "metadata": {},
     "output_type": "execute_result"
    }
   ],
   "source": [
    "gif(anim1, dir * filename1, fps = fps)\n",
    "gif(anim2, dir * filename2, fps = fps)\n",
    "IJulia.clear_output()"
   ]
  },
  {
   "cell_type": "code",
   "execution_count": 36,
   "metadata": {},
   "outputs": [
    {
     "data": {
      "text/html": [
       "<img src=\"gif/07_1_fps30.gif\">"
      ]
     },
     "metadata": {},
     "output_type": "display_data",
     "source": "julia"
    },
    {
     "data": {
      "text/html": [
       "<img src=\"gif/07_2_fps30.gif\">"
      ]
     },
     "metadata": {},
     "output_type": "display_data",
     "source": "julia"
    }
   ],
   "source": [
    "displayfile(dir * filename1)\n",
    "displayfile(dir * filename2)"
   ]
  },
  {
   "cell_type": "markdown",
   "metadata": {},
   "source": [
    "## 8. $w=z^\\frac{1}{3}$"
   ]
  },
  {
   "cell_type": "code",
   "execution_count": 37,
   "metadata": {},
   "outputs": [
    {
     "name": "stderr",
     "output_type": "stream",
     "text": [
      "\u001b[32mProgress: 100%|█████████████████████████████████████████| Time: 0:00:17\u001b[39m\n"
     ]
    },
    {
     "data": {
      "text/plain": [
       "\"08_2_fps30.gif\""
      ]
     },
     "execution_count": 37,
     "metadata": {},
     "output_type": "execute_result"
    }
   ],
   "source": [
    "function f8(z)\n",
    "    z.^(1/3)\n",
    "end\n",
    "\n",
    "anim2 = makeanim(f8, shapes2, n=200, kmin=π, kmax=0, zsize=π, wsize=π)\n",
    "\n",
    "filename1 = \"08_1_fps$fps.gif\"\n",
    "filename2 = \"08_2_fps$fps.gif\"\n"
   ]
  },
  {
   "cell_type": "code",
   "execution_count": 38,
   "metadata": {},
   "outputs": [
    {
     "data": {
      "text/plain": [
       "0"
      ]
     },
     "execution_count": 38,
     "metadata": {},
     "output_type": "execute_result"
    }
   ],
   "source": [
    "gif(anim2, dir * filename2, fps = fps)\n",
    "IJulia.clear_output()"
   ]
  },
  {
   "cell_type": "code",
   "execution_count": 39,
   "metadata": {},
   "outputs": [
    {
     "data": {
      "text/html": [
       "<img src=\"gif/08_2_fps30.gif\">"
      ]
     },
     "metadata": {},
     "output_type": "display_data",
     "source": "julia"
    }
   ],
   "source": [
    "displayfile(dir * filename2)"
   ]
  },
  {
   "cell_type": "markdown",
   "metadata": {},
   "source": [
    "## 9. $w=| z |^2$"
   ]
  },
  {
   "cell_type": "code",
   "execution_count": 40,
   "metadata": {},
   "outputs": [
    {
     "name": "stderr",
     "output_type": "stream",
     "text": [
      "\u001b[32mProgress: 100%|█████████████████████████████████████████| Time: 0:00:09\u001b[39m\n",
      "\u001b[32mProgress: 100%|█████████████████████████████████████████| Time: 0:00:14\u001b[39m\n"
     ]
    },
    {
     "data": {
      "text/plain": [
       "\"09_2_fps30.gif\""
      ]
     },
     "execution_count": 40,
     "metadata": {},
     "output_type": "execute_result"
    }
   ],
   "source": [
    "function f9(z)\n",
    "    z .* conj(z)\n",
    "end\n",
    "\n",
    "anim1 = makeanim(f9, shapes1, n=150, kmin=-2, kmax=2, zsize=2, wsize=2)\n",
    "anim2 = makeanim(f9, shapes2, n=200, kmin=π, kmax=0, zsize=π, wsize=π)\n",
    "\n",
    "filename1 = \"09_1_fps$fps.gif\"\n",
    "filename2 = \"09_2_fps$fps.gif\""
   ]
  },
  {
   "cell_type": "code",
   "execution_count": 41,
   "metadata": {},
   "outputs": [
    {
     "data": {
      "text/plain": [
       "0"
      ]
     },
     "execution_count": 41,
     "metadata": {},
     "output_type": "execute_result"
    }
   ],
   "source": [
    "gif(anim1, dir * filename1, fps = fps)\n",
    "gif(anim2, dir * filename2, fps = fps)\n",
    "IJulia.clear_output()"
   ]
  },
  {
   "cell_type": "code",
   "execution_count": 42,
   "metadata": {},
   "outputs": [
    {
     "data": {
      "text/html": [
       "<img src=\"gif/09_1_fps30.gif\">"
      ]
     },
     "metadata": {},
     "output_type": "display_data",
     "source": "julia"
    },
    {
     "data": {
      "text/html": [
       "<img src=\"gif/09_2_fps30.gif\">"
      ]
     },
     "metadata": {},
     "output_type": "display_data",
     "source": "julia"
    }
   ],
   "source": [
    "displayfile(dir * filename1)\n",
    "displayfile(dir * filename2)"
   ]
  },
  {
   "cell_type": "markdown",
   "metadata": {},
   "source": [
    "# 参考文献\n",
    "\n",
    "- 高速でJuliaを学ぶチュートリアル https://github.com/bicycle1885/Julia-Tutorial\n",
    "- Julia Documentation https://hshindo.github.io/julia-doc-ja-v0.6/index.html\n",
    "- Plots http://docs.juliaplots.org/latest/\n",
    "- http://www.cas.cmc.osaka-u.ac.jp/~paoon/misc/julia/post/trouble-plots-package/\n",
    "- http://nbviewer.jupyter.org/gist/genkuroki/3d6dbf52a3e52eb7c664bc88632c81d3#Plots.gr()-%E3%81%AB%E3%82%88%E3%82%8BGIF%E3%82%A2%E3%83%8B%E3%83%A1%E4%BD%9C%E6%88%90"
   ]
  },
  {
   "cell_type": "code",
   "execution_count": null,
   "metadata": {},
   "outputs": [],
   "source": []
  }
 ],
 "metadata": {
  "kernelspec": {
   "display_name": "Julia 0.6.2",
   "language": "julia",
   "name": "julia-0.6"
  },
  "language_info": {
   "file_extension": ".jl",
   "mimetype": "application/julia",
   "name": "julia",
   "version": "0.6.2"
  }
 },
 "nbformat": 4,
 "nbformat_minor": 2
}
